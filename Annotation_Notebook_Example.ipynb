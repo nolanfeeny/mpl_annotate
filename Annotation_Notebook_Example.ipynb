{
 "cells": [
  {
   "cell_type": "markdown",
   "metadata": {},
   "source": [
    "# Click + Drag Using mpld3\n",
    "\n",
    "The goal is to combine concepts from the following two examples:\n",
    "\n",
    "[point-generating, pure html/d3](http://bl.ocks.org/WilliamQLiu/76ae20060e19bf42d774)\n",
    "\n",
    "[dragging points, d3/jupyter](https://mpld3.github.io/examples/drag_points.html)\n",
    "\n",
    "NOTES\n",
    "\n",
    "- Annotate class creates new point and drags existing points\n",
    "- Radius and color customizable\n",
    "\n",
    "[GitHub page](https://github.com/d3/d3-drag/blob/master/README.md)\n",
    "\n",
    "\n",
    "#TODO List\n",
    "\n",
    "- Allow more than one figure\n",
    "- Make a much better project name\n",
    "- Add point delete option\n",
    "- Move to a folder and make project a library\n",
    "- add options to initial points\n",
    "- Add option to change the output variable names from x,y\n",
    "- Replace HTML markers"
   ]
  },
  {
   "cell_type": "code",
   "execution_count": null,
   "metadata": {
    "collapsed": true
   },
   "outputs": [],
   "source": [
    "### pip3 install mpld3 --- DON'T RUN AGAIN OR CLONE"
   ]
  },
  {
   "cell_type": "code",
   "execution_count": null,
   "metadata": {
    "collapsed": false
   },
   "outputs": [],
   "source": [
    "import sys\n",
    "sys.path.append('./packages')"
   ]
  },
  {
   "cell_type": "code",
   "execution_count": null,
   "metadata": {
    "collapsed": false
   },
   "outputs": [],
   "source": [
    "#Example of what we want\n",
    "\n",
    "%matplotlib inline\n",
    "import annotate\n",
    "import scipy.misc as misc\n",
    "import matplotlib.pylab as plt\n",
    "\n",
    
    "im = misc.imread('sample_image.jpg')\n",
    "fig = plt.figure(figsize=(10,7))\n",
    "plt.imshow(im, origin='lower') # remove "origin=lower" if figure is upside-down\n",
    "annotate.pickpoints(color='cyan', radius=2)"
   ]
  },
  {
   "cell_type": "code",
   "execution_count": null,
   "metadata": {
    "collapsed": false
   },
   "outputs": [],
   "source": [
    "print(annotate.cleanformat(x))"
   ]
  }
 ],
 "metadata": {
  "anaconda-cloud": {},
  "kernelspec": {
   "display_name": "Python 3",
   "language": "python",
   "name": "python3"
  },
  "language_info": {
   "codemirror_mode": {
    "name": "ipython",
    "version": 3
   },
   "file_extension": ".py",
   "mimetype": "text/x-python",
   "name": "python",
   "nbconvert_exporter": "python",
   "pygments_lexer": "ipython3",
   "version": "3.5.2"
  }
 },
 "nbformat": 4,
 "nbformat_minor": 1
}
