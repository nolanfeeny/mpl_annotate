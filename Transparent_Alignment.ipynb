{
 "cells": [
  {
   "cell_type": "markdown",
   "metadata": {},
   "source": [
    "# Step 1: Read in an image file\n",
    "\n",
    "The following code reads an image file from a website and places it in a 3D numpy array called ```im```.  The first dimension is the row, the second dimension is the column and the third dimension is the color (R,G,B). \n",
    "\n",
    "\n",
    "**NOTE (this is important to remember):** images have a coordinate system with origin in the upper left and the $z$ axis going into the screen. Also images are indexed by [Rows] and then [columns] this means that the first index corresponds to the traditional y-axis and the second index corresponds to the x-axis (which is backwards to traditional euclidean axes).   "
   ]
  },
  {
   "cell_type": "code",
   "execution_count": null,
   "metadata": {
    "scrolled": false
   },
   "outputs": [],
   "source": [
    "%matplotlib inline\n",
    "from __future__ import division\n",
    "import matplotlib.pyplot as plt\n",
    "import numpy as np\n",
    "import scipy.misc as misc\n",
    "from urllib.request import urlopen\n",
    "from scipy.misc import imread, imsave\n",
    "\n",
    "from skimage import transform\n",
    "\n",
    "# Here are some libraries you may need to use\n",
    "%matplotlib inline\n",
    "import matplotlib.pylab as plt\n",
    "\n",
    "import sympy as sp\n",
    "sp.init_printing()\n",
    "\n",
    "import numpy as np\n",
    "\n",
    "from ipywidgets import interact\n",
    "import math\n",
    "\n",
    "\n",
    "url1 = 'http://res.cloudinary.com/miles-extranet-dev/image/upload/ar_16:9,c_fill,w_1000,g_face,q_50/Michigan/migration_photos/G21696/G21696-msubeaumonttower01.jpg'\n",
    "with urlopen(url1) as file:\n",
    "    im1 = imread(file, mode='RGB')\n",
    "url2 = 'http://msutoday.msu.edu/_/img/assets/2013/beaumont-spring-1.jpg'\n",
    "with urlopen(url2) as file:\n",
    "    im2 = imread(file, mode='RGB')\n",
    "\n",
    "#Show the image\n",
    "plt.imshow(im1);"
   ]
  },
  {
   "cell_type": "code",
   "execution_count": null,
   "metadata": {},
   "outputs": [],
   "source": [
    "plt.imshow(im2)"
   ]
  },
  {
   "cell_type": "code",
   "execution_count": null,
   "metadata": {
    "collapsed": true
   },
   "outputs": [],
   "source": [
    "im = im1\n",
    "def affine_image(a1=0,s=1,tx=0,ty=0, alpha=1):\n",
    "    theta = -a1/180  * math.pi\n",
    "    \n",
    "    dx = tx*im.shape[1]\n",
    "    dy = ty*im.shape[0]\n",
    "    S = np.matrix([[1/s,0,0], [0,1/s,0], [0,0,1]])\n",
    "    T2 = np.matrix([[1,0,im.shape[1]/2], [0,1,im.shape[0]/2], [0,0,1]])\n",
    "    T1 = np.matrix([[1,0,-im.shape[1]/2-dx], [0,1,-im.shape[0]/2-dy], [0,0,1]])\n",
    "    R = np.matrix([[math.cos(theta),-math.sin(theta),0],[math.sin(theta), math.cos(theta),0],[0,0,1]])\n",
    "    img = transform.warp(im, T2*S*R*T1);\n",
    "    plt.imshow(im2);\n",
    "    plt.imshow(img, alpha=alpha);\n",
    "\n",
    "    plt.show();"
   ]
  },
  {
   "cell_type": "code",
   "execution_count": null,
   "metadata": {},
   "outputs": [],
   "source": [
    "interact(affine_image, a1=(-180,180), s=(0.001,5), tx=(-1.0,1.0), ty=(-1,1,0.1),alpha=(0.0,1.0)); ##TODO: Modify this line of code"
   ]
  },
  {
   "cell_type": "code",
   "execution_count": null,
   "metadata": {
    "collapsed": true
   },
   "outputs": [],
   "source": []
  },
  {
   "cell_type": "code",
   "execution_count": null,
   "metadata": {
    "collapsed": true
   },
   "outputs": [],
   "source": []
  }
 ],
 "metadata": {
  "kernelspec": {
   "display_name": "Python 3",
   "language": "python",
   "name": "python3"
  },
  "language_info": {
   "codemirror_mode": {
    "name": "ipython",
    "version": 3
   },
   "file_extension": ".py",
   "mimetype": "text/x-python",
   "name": "python",
   "nbconvert_exporter": "python",
   "pygments_lexer": "ipython3",
   "version": "3.6.1"
  }
 },
 "nbformat": 4,
 "nbformat_minor": 1
}
